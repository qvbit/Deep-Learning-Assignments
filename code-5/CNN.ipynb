{
 "cells": [
  {
   "cell_type": "markdown",
   "metadata": {},
   "source": [
    "# Convolutional neural networks\n",
    "\n",
    "In this notebook, we'll put together our convolutional layers to implement a 3-layer CNN.  Then, we'll ask you to implement a CNN that can achieve > 65% validation error on CIFAR-10.\n",
    "\n",
    "CS231n has built a solid API for building these modular frameworks and training them, and we will use their very well implemented framework as opposed to \"reinventing the wheel.\"  This includes using their Solver, various utility functions, their layer structure, and their implementation of fast CNN layers.  This also includes nndl.fc_net, nndl.layers, and nndl.layer_utils.  As in prior assignments, we thank Serena Yeung & Justin Johnson for permission to use code written for the CS 231n class (cs231n.stanford.edu).  \n",
    "\n",
    "If you have not completed the Spatial BatchNorm Notebook, please see the following description from that notebook:\n",
    "\n",
    "Please copy and paste your prior implemented code from HW #4 to start this assignment.  If you did not correctly implement the layers in HW #4, you may collaborate with a classmate to use their layer implementations from HW #4.  You may also visit TA or Prof OH to correct your implementation.  \n",
    "\n",
    "You'll want to copy and paste from HW #4:\n",
    "    - layers.py for your FC network layers, as well as batchnorm and dropout.\n",
    "    - layer_utils.py for your combined FC network layers.\n",
    "    - optim.py for your optimizers.\n",
    "\n",
    "Be sure to place these in the `nndl/` directory so they're imported correctly.  Note, as announced in class, we will not be releasing our solutions."
   ]
  },
  {
   "cell_type": "code",
   "execution_count": 1,
   "metadata": {
    "collapsed": true
   },
   "outputs": [],
   "source": [
    "# As usual, a bit of setup\n",
    "\n",
    "import numpy as np\n",
    "import matplotlib.pyplot as plt\n",
    "from nndl.cnn import *\n",
    "from cs231n.data_utils import get_CIFAR10_data\n",
    "from cs231n.gradient_check import eval_numerical_gradient_array, eval_numerical_gradient\n",
    "from nndl.layers import *\n",
    "from nndl.conv_layers import *\n",
    "from cs231n.fast_layers import *\n",
    "from cs231n.solver import Solver\n",
    "\n",
    "%matplotlib inline\n",
    "plt.rcParams['figure.figsize'] = (10.0, 8.0) # set default size of plots\n",
    "plt.rcParams['image.interpolation'] = 'nearest'\n",
    "plt.rcParams['image.cmap'] = 'gray'\n",
    "\n",
    "# for auto-reloading external modules\n",
    "# see http://stackoverflow.com/questions/1907993/autoreload-of-modules-in-ipython\n",
    "%load_ext autoreload\n",
    "%autoreload 2\n",
    "\n",
    "def rel_error(x, y):\n",
    "  \"\"\" returns relative error \"\"\"\n",
    "  return np.max(np.abs(x - y) / (np.maximum(1e-8, np.abs(x) + np.abs(y))))"
   ]
  },
  {
   "cell_type": "code",
   "execution_count": 2,
   "metadata": {},
   "outputs": [
    {
     "name": "stdout",
     "output_type": "stream",
     "text": [
      "X_train: (49000, 3, 32, 32) \n",
      "y_train: (49000,) \n",
      "X_val: (1000, 3, 32, 32) \n",
      "y_val: (1000,) \n",
      "X_test: (1000, 3, 32, 32) \n",
      "y_test: (1000,) \n"
     ]
    }
   ],
   "source": [
    "# Load the (preprocessed) CIFAR10 data.\n",
    "\n",
    "data = get_CIFAR10_data()\n",
    "for k in data.keys():\n",
    "  print('{}: {} '.format(k, data[k].shape))"
   ]
  },
  {
   "cell_type": "markdown",
   "metadata": {},
   "source": [
    "## Three layer CNN\n",
    "\n",
    "In this notebook, you will implement a three layer CNN.  The `ThreeLayerConvNet` class is in `nndl/cnn.py`.  You'll need to modify that code for this section, including the initialization, as well as the calculation of the loss and gradients.  You should be able to use the building blocks you have either earlier coded or that we have provided.  Be sure to use the fast layers.\n",
    "\n",
    "The architecture of this CNN will be:\n",
    "\n",
    "conv - relu - 2x2 max pool - affine - relu - affine - softmax\n",
    "\n",
    "We won't use batchnorm yet.  You've also done enough of these to know how to debug; use the cells below.\n",
    "\n",
    "Note: As we are implementing several layers CNN networks. The gradient error can be expected for the `eval_numerical_gradient()` function. If your `W1 max relative error` and `W2 max relative error` are around or below 0.01, they should be acceptable. Other errors should be less than 1e-5. "
   ]
  },
  {
   "cell_type": "code",
   "execution_count": 3,
   "metadata": {},
   "outputs": [
    {
     "name": "stdout",
     "output_type": "stream",
     "text": [
      "W1 max relative error: 0.00013662474552329765\n",
      "W2 max relative error: 0.013313387857517957\n",
      "W3 max relative error: 5.424123684527914e-05\n",
      "b1 max relative error: 7.168176005226287e-06\n",
      "b2 max relative error: 1.6933668005252445e-06\n",
      "b3 max relative error: 1.1980592807710537e-09\n"
     ]
    }
   ],
   "source": [
    "num_inputs = 2\n",
    "input_dim = (3, 16, 16)\n",
    "reg = 0.0\n",
    "num_classes = 10\n",
    "X = np.random.randn(num_inputs, *input_dim)\n",
    "y = np.random.randint(num_classes, size=num_inputs)\n",
    "\n",
    "model = ThreeLayerConvNet(num_filters=3, filter_size=3,\n",
    "                          input_dim=input_dim, hidden_dim=7,\n",
    "                          dtype=np.float64)\n",
    "loss, grads = model.loss(X, y)\n",
    "for param_name in sorted(grads):\n",
    "    f = lambda _: model.loss(X, y)[0]\n",
    "    param_grad_num = eval_numerical_gradient(f, model.params[param_name], verbose=False, h=1e-6)\n",
    "    e = rel_error(param_grad_num, grads[param_name])\n",
    "    print('{} max relative error: {}'.format(param_name, rel_error(param_grad_num, grads[param_name])))"
   ]
  },
  {
   "cell_type": "markdown",
   "metadata": {},
   "source": [
    "### Overfit small dataset\n",
    "\n",
    "To check your CNN implementation, let's overfit a small dataset."
   ]
  },
  {
   "cell_type": "code",
   "execution_count": 4,
   "metadata": {},
   "outputs": [
    {
     "name": "stdout",
     "output_type": "stream",
     "text": [
      "(Iteration 1 / 20) loss: 2.395812\n",
      "(Epoch 0 / 10) train acc: 0.160000; val_acc: 0.118000\n",
      "(Iteration 2 / 20) loss: 3.605652\n",
      "(Epoch 1 / 10) train acc: 0.200000; val_acc: 0.075000\n",
      "(Iteration 3 / 20) loss: 2.518068\n",
      "(Iteration 4 / 20) loss: 3.195962\n",
      "(Epoch 2 / 10) train acc: 0.180000; val_acc: 0.118000\n",
      "(Iteration 5 / 20) loss: 3.157427\n",
      "(Iteration 6 / 20) loss: 2.583717\n",
      "(Epoch 3 / 10) train acc: 0.310000; val_acc: 0.153000\n",
      "(Iteration 7 / 20) loss: 2.353018\n",
      "(Iteration 8 / 20) loss: 2.290666\n",
      "(Epoch 4 / 10) train acc: 0.410000; val_acc: 0.145000\n",
      "(Iteration 9 / 20) loss: 2.110327\n",
      "(Iteration 10 / 20) loss: 1.990749\n",
      "(Epoch 5 / 10) train acc: 0.490000; val_acc: 0.156000\n",
      "(Iteration 11 / 20) loss: 1.648595\n",
      "(Iteration 12 / 20) loss: 1.858026\n",
      "(Epoch 6 / 10) train acc: 0.460000; val_acc: 0.166000\n",
      "(Iteration 13 / 20) loss: 1.475104\n",
      "(Iteration 14 / 20) loss: 1.564877\n",
      "(Epoch 7 / 10) train acc: 0.530000; val_acc: 0.183000\n",
      "(Iteration 15 / 20) loss: 1.390437\n",
      "(Iteration 16 / 20) loss: 1.154262\n",
      "(Epoch 8 / 10) train acc: 0.640000; val_acc: 0.169000\n",
      "(Iteration 17 / 20) loss: 1.160819\n",
      "(Iteration 18 / 20) loss: 1.302899\n",
      "(Epoch 9 / 10) train acc: 0.650000; val_acc: 0.183000\n",
      "(Iteration 19 / 20) loss: 1.033803\n",
      "(Iteration 20 / 20) loss: 0.902444\n",
      "(Epoch 10 / 10) train acc: 0.780000; val_acc: 0.209000\n"
     ]
    }
   ],
   "source": [
    "num_train = 100\n",
    "small_data = {\n",
    "  'X_train': data['X_train'][:num_train],\n",
    "  'y_train': data['y_train'][:num_train],\n",
    "  'X_val': data['X_val'],\n",
    "  'y_val': data['y_val'],\n",
    "}\n",
    "\n",
    "model = ThreeLayerConvNet(weight_scale=1e-2)\n",
    "\n",
    "solver = Solver(model, small_data,\n",
    "                num_epochs=10, batch_size=50,\n",
    "                update_rule='adam',\n",
    "                optim_config={\n",
    "                  'learning_rate': 1e-3,\n",
    "                },\n",
    "                verbose=True, print_every=1)\n",
    "solver.train()"
   ]
  },
  {
   "cell_type": "code",
   "execution_count": 5,
   "metadata": {},
   "outputs": [
    {
     "data": {
      "image/png": "[encoded data removed]",
      "text/plain": [
       "<matplotlib.figure.Figure at 0x1086219e8>"
      ]
     },
     "metadata": {},
     "output_type": "display_data"
    }
   ],
   "source": [
    "plt.subplot(2, 1, 1)\n",
    "plt.plot(solver.loss_history, 'o')\n",
    "plt.xlabel('iteration')\n",
    "plt.ylabel('loss')\n",
    "\n",
    "plt.subplot(2, 1, 2)\n",
    "plt.plot(solver.train_acc_history, '-o')\n",
    "plt.plot(solver.val_acc_history, '-o')\n",
    "plt.legend(['train', 'val'], loc='upper left')\n",
    "plt.xlabel('epoch')\n",
    "plt.ylabel('accuracy')\n",
    "plt.show()"
   ]
  },
  {
   "cell_type": "markdown",
   "metadata": {},
   "source": [
    "## Train the network\n",
    "\n",
    "Now we train the 3 layer CNN on CIFAR-10 and assess its accuracy."
   ]
  },
  {
   "cell_type": "code",
   "execution_count": 6,
   "metadata": {
    "scrolled": false
   },
   "outputs": [
    {
     "name": "stdout",
     "output_type": "stream",
     "text": [
      "(Iteration 1 / 980) loss: 2.306653\n",
      "(Epoch 0 / 1) train acc: 0.091000; val_acc: 0.098000\n",
      "(Iteration 21 / 980) loss: 2.519394\n",
      "(Iteration 41 / 980) loss: 2.001509\n",
      "(Iteration 61 / 980) loss: 1.823737\n",
      "(Iteration 81 / 980) loss: 1.824529\n",
      "(Iteration 101 / 980) loss: 1.932889\n",
      "(Iteration 121 / 980) loss: 1.822993\n",
      "(Iteration 141 / 980) loss: 1.572602\n",
      "(Iteration 161 / 980) loss: 1.532502\n",
      "(Iteration 181 / 980) loss: 1.758913\n",
      "(Iteration 201 / 980) loss: 1.702197\n",
      "(Iteration 221 / 980) loss: 1.535354\n",
      "(Iteration 241 / 980) loss: 1.795543\n",
      "(Iteration 261 / 980) loss: 1.901659\n",
      "(Iteration 281 / 980) loss: 1.872595\n",
      "(Iteration 301 / 980) loss: 1.565947\n",
      "(Iteration 321 / 980) loss: 1.731340\n",
      "(Iteration 341 / 980) loss: 1.830726\n",
      "(Iteration 361 / 980) loss: 1.880948\n",
      "(Iteration 381 / 980) loss: 1.611363\n",
      "(Iteration 401 / 980) loss: 1.713272\n",
      "(Iteration 421 / 980) loss: 1.716840\n",
      "(Iteration 441 / 980) loss: 1.926204\n",
      "(Iteration 461 / 980) loss: 1.685990\n",
      "(Iteration 481 / 980) loss: 1.597425\n",
      "(Iteration 501 / 980) loss: 1.828407\n",
      "(Iteration 521 / 980) loss: 1.755941\n",
      "(Iteration 541 / 980) loss: 2.104299\n",
      "(Iteration 561 / 980) loss: 1.564916\n",
      "(Iteration 581 / 980) loss: 1.425776\n",
      "(Iteration 601 / 980) loss: 1.723124\n",
      "(Iteration 621 / 980) loss: 1.616677\n",
      "(Iteration 641 / 980) loss: 1.852649\n",
      "(Iteration 661 / 980) loss: 1.619879\n",
      "(Iteration 681 / 980) loss: 1.533242\n",
      "(Iteration 701 / 980) loss: 1.553849\n",
      "(Iteration 721 / 980) loss: 1.646714\n",
      "(Iteration 741 / 980) loss: 1.628659\n",
      "(Iteration 761 / 980) loss: 1.662931\n",
      "(Iteration 781 / 980) loss: 1.441787\n",
      "(Iteration 801 / 980) loss: 1.637572\n",
      "(Iteration 821 / 980) loss: 1.260900\n",
      "(Iteration 841 / 980) loss: 1.417116\n",
      "(Iteration 861 / 980) loss: 1.394553\n",
      "(Iteration 881 / 980) loss: 1.532071\n",
      "(Iteration 901 / 980) loss: 1.433356\n",
      "(Iteration 921 / 980) loss: 1.481189\n",
      "(Iteration 941 / 980) loss: 1.500565\n",
      "(Iteration 961 / 980) loss: 1.382331\n",
      "(Epoch 1 / 1) train acc: 0.476000; val_acc: 0.497000\n"
     ]
    }
   ],
   "source": [
    "model = ThreeLayerConvNet(weight_scale=0.001, hidden_dim=500, reg=0.001)\n",
    "\n",
    "solver = Solver(model, data,\n",
    "                num_epochs=1, batch_size=50,\n",
    "                update_rule='adam',\n",
    "                optim_config={\n",
    "                  'learning_rate': 1e-3,\n",
    "                },\n",
    "                verbose=True, print_every=20)\n",
    "solver.train()"
   ]
  },
  {
   "cell_type": "markdown",
   "metadata": {},
   "source": [
    "# Get > 65% validation accuracy on CIFAR-10.\n",
    "\n",
    "In the last part of the assignment, we'll now ask you to train a CNN to get better than 65% validation accuracy on CIFAR-10.\n",
    "\n",
    "### Things you should try:\n",
    "- Filter size: Above we used 7x7; but VGGNet and onwards showed stacks of 3x3 filters are good.  \n",
    "- Number of filters: Above we used 32 filters. Do more or fewer do better?\n",
    "- Batch normalization: Try adding spatial batch normalization after convolution layers and vanilla batch normalization aafter affine layers. Do your networks train faster?\n",
    "- Network architecture: Can a deeper CNN do better?  Consider these architectures:\n",
    "    - [conv-relu-pool]xN - conv - relu - [affine]xM - [softmax or SVM]\n",
    "    - [conv-relu-pool]XN - [affine]XM - [softmax or SVM]\n",
    "    - [conv-relu-conv-relu-pool]xN - [affine]xM - [softmax or SVM]\n",
    "\n",
    "### Tips for training\n",
    "For each network architecture that you try, you should tune the learning rate and regularization strength. When doing this there are a couple important things to keep in mind:\n",
    "\n",
    "- If the parameters are working well, you should see improvement within a few hundred iterations\n",
    "- Remember the coarse-to-fine approach for hyperparameter tuning: start by testing a large range of hyperparameters for just a few training iterations to find the combinations of parameters that are working at all.\n",
    "- Once you have found some sets of parameters that seem to work, search more finely around these parameters. You may need to train for more epochs."
   ]
  },
  {
   "cell_type": "code",
   "execution_count": 10,
   "metadata": {
    "scrolled": false
   },
   "outputs": [
    {
     "name": "stdout",
     "output_type": "stream",
     "text": [
      "(Iteration 1 / 1630) loss: 2.306710\n",
      "(Epoch 0 / 10) train acc: 0.104000; val_acc: 0.107000\n",
      "(Iteration 21 / 1630) loss: 1.716374\n",
      "(Iteration 41 / 1630) loss: 1.739475\n",
      "(Iteration 61 / 1630) loss: 1.614773\n",
      "(Iteration 81 / 1630) loss: 1.433030\n",
      "(Iteration 101 / 1630) loss: 1.435495\n",
      "(Iteration 121 / 1630) loss: 1.445256\n",
      "(Iteration 141 / 1630) loss: 1.469738\n",
      "(Iteration 161 / 1630) loss: 1.375869\n",
      "(Epoch 1 / 10) train acc: 0.560000; val_acc: 0.535000\n",
      "(Iteration 181 / 1630) loss: 1.331477\n",
      "(Iteration 201 / 1630) loss: 1.259839\n",
      "(Iteration 221 / 1630) loss: 1.354508\n",
      "(Iteration 241 / 1630) loss: 1.274097\n",
      "(Iteration 261 / 1630) loss: 1.229581\n",
      "(Iteration 281 / 1630) loss: 1.332361\n",
      "(Iteration 301 / 1630) loss: 1.288275\n",
      "(Iteration 321 / 1630) loss: 1.332613\n",
      "(Epoch 2 / 10) train acc: 0.604000; val_acc: 0.576000\n",
      "(Iteration 341 / 1630) loss: 1.342163\n",
      "(Iteration 361 / 1630) loss: 1.173338\n",
      "(Iteration 381 / 1630) loss: 1.263374\n",
      "(Iteration 401 / 1630) loss: 1.270745\n",
      "(Iteration 421 / 1630) loss: 1.180318\n",
      "(Iteration 441 / 1630) loss: 1.190030\n",
      "(Iteration 461 / 1630) loss: 1.125008\n",
      "(Iteration 481 / 1630) loss: 1.139466\n",
      "(Epoch 3 / 10) train acc: 0.689000; val_acc: 0.603000\n",
      "(Iteration 501 / 1630) loss: 1.207907\n",
      "(Iteration 521 / 1630) loss: 1.148336\n",
      "(Iteration 541 / 1630) loss: 1.070458\n",
      "(Iteration 561 / 1630) loss: 1.005418\n",
      "(Iteration 581 / 1630) loss: 1.158520\n",
      "(Iteration 601 / 1630) loss: 1.054216\n",
      "(Iteration 621 / 1630) loss: 1.043841\n",
      "(Iteration 641 / 1630) loss: 0.986318\n",
      "(Epoch 4 / 10) train acc: 0.675000; val_acc: 0.620000\n",
      "(Iteration 661 / 1630) loss: 1.006375\n",
      "(Iteration 681 / 1630) loss: 1.088836\n",
      "(Iteration 701 / 1630) loss: 0.969493\n",
      "(Iteration 721 / 1630) loss: 1.016031\n",
      "(Iteration 741 / 1630) loss: 1.046038\n",
      "(Iteration 761 / 1630) loss: 1.001298\n",
      "(Iteration 781 / 1630) loss: 1.000246\n",
      "(Iteration 801 / 1630) loss: 0.954665\n",
      "(Epoch 5 / 10) train acc: 0.745000; val_acc: 0.629000\n",
      "(Iteration 821 / 1630) loss: 1.027500\n",
      "(Iteration 841 / 1630) loss: 0.907107\n",
      "(Iteration 861 / 1630) loss: 0.967638\n",
      "(Iteration 881 / 1630) loss: 0.998957\n",
      "(Iteration 901 / 1630) loss: 0.970997\n",
      "(Iteration 921 / 1630) loss: 0.964130\n",
      "(Iteration 941 / 1630) loss: 0.931317\n",
      "(Iteration 961 / 1630) loss: 0.969351\n",
      "(Epoch 6 / 10) train acc: 0.724000; val_acc: 0.640000\n",
      "(Iteration 981 / 1630) loss: 0.953254\n",
      "(Iteration 1001 / 1630) loss: 0.883448\n",
      "(Iteration 1021 / 1630) loss: 0.990051\n",
      "(Iteration 1041 / 1630) loss: 0.988515\n",
      "(Iteration 1061 / 1630) loss: 0.925124\n",
      "(Iteration 1081 / 1630) loss: 0.939541\n",
      "(Iteration 1101 / 1630) loss: 0.914978\n",
      "(Iteration 1121 / 1630) loss: 0.881592\n",
      "(Iteration 1141 / 1630) loss: 0.781822\n",
      "(Epoch 7 / 10) train acc: 0.752000; val_acc: 0.633000\n",
      "(Iteration 1161 / 1630) loss: 0.870065\n",
      "(Iteration 1181 / 1630) loss: 0.805665\n",
      "(Iteration 1201 / 1630) loss: 0.826278\n",
      "(Iteration 1221 / 1630) loss: 0.886781\n",
      "(Iteration 1241 / 1630) loss: 0.917223\n",
      "(Iteration 1261 / 1630) loss: 0.798433\n",
      "(Iteration 1281 / 1630) loss: 0.832501\n",
      "(Iteration 1301 / 1630) loss: 0.851099\n",
      "(Epoch 8 / 10) train acc: 0.764000; val_acc: 0.652000\n",
      "(Iteration 1321 / 1630) loss: 0.826494\n",
      "(Iteration 1341 / 1630) loss: 0.852247\n",
      "(Iteration 1361 / 1630) loss: 0.801567\n",
      "(Iteration 1381 / 1630) loss: 0.776750\n",
      "(Iteration 1401 / 1630) loss: 0.821781\n",
      "(Iteration 1421 / 1630) loss: 0.871765\n",
      "(Iteration 1441 / 1630) loss: 0.848123\n",
      "(Iteration 1461 / 1630) loss: 0.791465\n",
      "(Epoch 9 / 10) train acc: 0.758000; val_acc: 0.659000\n",
      "(Iteration 1481 / 1630) loss: 0.880385\n",
      "(Iteration 1501 / 1630) loss: 0.871098\n",
      "(Iteration 1521 / 1630) loss: 0.829892\n",
      "(Iteration 1541 / 1630) loss: 0.843098\n",
      "(Iteration 1561 / 1630) loss: 0.853133\n",
      "(Iteration 1581 / 1630) loss: 0.916277\n",
      "(Iteration 1601 / 1630) loss: 0.825433\n",
      "(Iteration 1621 / 1630) loss: 0.826510\n",
      "(Epoch 10 / 10) train acc: 0.782000; val_acc: 0.652000\n"
     ]
    }
   ],
   "source": [
    "# ================================================================ #\n",
    "# YOUR CODE HERE:\n",
    "#   Implement a CNN to achieve greater than 65% validation accuracy\n",
    "#   on CIFAR-10.\n",
    "# ================================================================ #\n",
    "model_best = ThreeLayerConvNet(weight_scale=0.001, hidden_dim=500, reg=0.001, filter_size = 3,use_batchnorm=True)\n",
    "\n",
    "solver = Solver(model_best, data,\n",
    "                num_epochs=10, batch_size=300,\n",
    "                update_rule='adam',\n",
    "                optim_config={\n",
    "                  'learning_rate': 1e-3,\n",
    "                },\n",
    "                verbose=True, print_every=20)\n",
    "solver.train()\n",
    "\n",
    "# ================================================================ #\n",
    "# END YOUR CODE HERE\n",
    "# ================================================================ #\n"
   ]
  },
  {
   "cell_type": "markdown",
   "metadata": {
    "collapsed": true
   },
   "source": [
    "65% val accuracy achieved"
   ]
  },
  {
   "cell_type": "code",
   "execution_count": null,
   "metadata": {
    "collapsed": true
   },
   "outputs": [],
   "source": []
  }
 ],
 "metadata": {
  "hide_input": false,
  "kernelspec": {
   "display_name": "Python 3",
   "language": "python",
   "name": "python3"
  },
  "language_info": {
   "codemirror_mode": {
    "name": "ipython",
    "version": 3
   },
   "file_extension": ".py",
   "mimetype": "text/x-python",
   "name": "python",
   "nbconvert_exporter": "python",
   "pygments_lexer": "ipython3",
   "version": "3.6.3"
  },
  "varInspector": {
   "cols": {
    "lenName": 16,
    "lenType": 16,
    "lenVar": 40
   },
   "kernels_config": {
    "python": {
     "delete_cmd_postfix": "",
     "delete_cmd_prefix": "del ",
     "library": "var_list.py",
     "varRefreshCmd": "print(var_dic_list())"
    },
    "r": {
     "delete_cmd_postfix": ") ",
     "delete_cmd_prefix": "rm(",
     "library": "var_list.r",
     "varRefreshCmd": "cat(var_dic_list()) "
    }
   },
   "types_to_exclude": [
    "module",
    "function",
    "builtin_function_or_method",
    "instance",
    "_Feature"
   ],
   "window_display": false
  }
 },
 "nbformat": 4,
 "nbformat_minor": 2
}
