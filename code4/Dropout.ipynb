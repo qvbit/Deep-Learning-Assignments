{
 "cells": [
  {
   "cell_type": "markdown",
   "metadata": {},
   "source": [
    "# Dropout\n",
    "\n",
    "In this notebook, you will implement dropout.  Then we will ask you to train a network with batchnorm and dropout, and acheive over 60% accuracy on CIFAR-10.\n",
    "\n",
    "CS231n has built a solid API for building these modular frameworks and training them, and we will use their very well implemented framework as opposed to \"reinventing the wheel.\"  This includes using their Solver, various utility functions, and their layer structure.  This also includes nndl.fc_net, nndl.layers, and nndl.layer_utils.  As in prior assignments, we thank Serena Yeung & Justin Johnson for permission to use code written for the CS 231n class (cs231n.stanford.edu).  "
   ]
  },
  {
   "cell_type": "code",
   "execution_count": 1,
   "metadata": {
    "collapsed": true
   },
   "outputs": [],
   "source": [
    "## Import and setups\n",
    "\n",
    "import time\n",
    "import numpy as np\n",
    "import matplotlib.pyplot as plt\n",
    "from nndl.fc_net import *\n",
    "from nndl.layers import *\n",
    "from cs231n.data_utils import get_CIFAR10_data\n",
    "from cs231n.gradient_check import eval_numerical_gradient, eval_numerical_gradient_array\n",
    "from cs231n.solver import Solver\n",
    "\n",
    "%matplotlib inline\n",
    "plt.rcParams['figure.figsize'] = (10.0, 8.0) # set default size of plots\n",
    "plt.rcParams['image.interpolation'] = 'nearest'\n",
    "plt.rcParams['image.cmap'] = 'gray'\n",
    "\n",
    "# for auto-reloading external modules\n",
    "# see http://stackoverflow.com/questions/1907993/autoreload-of-modules-in-ipython\n",
    "%load_ext autoreload\n",
    "%autoreload 2\n",
    "\n",
    "def rel_error(x, y):\n",
    "  \"\"\" returns relative error \"\"\"\n",
    "  return np.max(np.abs(x - y) / (np.maximum(1e-8, np.abs(x) + np.abs(y))))"
   ]
  },
  {
   "cell_type": "code",
   "execution_count": 2,
   "metadata": {},
   "outputs": [
    {
     "name": "stdout",
     "output_type": "stream",
     "text": [
      "X_train: (49000, 3, 32, 32) \n",
      "y_train: (49000,) \n",
      "X_val: (1000, 3, 32, 32) \n",
      "y_val: (1000,) \n",
      "X_test: (1000, 3, 32, 32) \n",
      "y_test: (1000,) \n"
     ]
    }
   ],
   "source": [
    "# Load the (preprocessed) CIFAR10 data.\n",
    "\n",
    "data = get_CIFAR10_data()\n",
    "for k in data.keys():\n",
    "  print('{}: {} '.format(k, data[k].shape))"
   ]
  },
  {
   "cell_type": "markdown",
   "metadata": {},
   "source": [
    "## Dropout forward pass\n",
    "\n",
    "Implement the training and test time dropout forward pass, `dropout_forward`, in `nndl/layers.py`. After that, test your implementation by running the following cell."
   ]
  },
  {
   "cell_type": "code",
   "execution_count": 3,
   "metadata": {},
   "outputs": [
    {
     "name": "stdout",
     "output_type": "stream",
     "text": [
      "Running tests with p =  0.3\n",
      "Mean of input:  9.999474679865443\n",
      "Mean of train-time output:  9.991688390717973\n",
      "Mean of test-time output:  9.999474679865443\n",
      "Fraction of train-time output set to zero:  0.700272\n",
      "Fraction of test-time output set to zero:  0.0\n",
      "Running tests with p =  0.6\n",
      "Mean of input:  9.999474679865443\n",
      "Mean of train-time output:  9.988545589413697\n",
      "Mean of test-time output:  9.999474679865443\n",
      "Fraction of train-time output set to zero:  0.400652\n",
      "Fraction of test-time output set to zero:  0.0\n",
      "Running tests with p =  0.75\n",
      "Mean of input:  9.999474679865443\n",
      "Mean of train-time output:  10.012500972277119\n",
      "Mean of test-time output:  9.999474679865443\n",
      "Fraction of train-time output set to zero:  0.249124\n",
      "Fraction of test-time output set to zero:  0.0\n"
     ]
    }
   ],
   "source": [
    "x = np.random.randn(500, 500) + 10\n",
    "\n",
    "for p in [0.3, 0.6, 0.75]:\n",
    "  out, _ = dropout_forward(x, {'mode': 'train', 'p': p})\n",
    "  out_test, _ = dropout_forward(x, {'mode': 'test', 'p': p})\n",
    "\n",
    "  print('Running tests with p = ', p)\n",
    "  print('Mean of input: ', x.mean())\n",
    "  print('Mean of train-time output: ', out.mean())\n",
    "  print('Mean of test-time output: ', out_test.mean())\n",
    "  print('Fraction of train-time output set to zero: ', (out == 0).mean())\n",
    "  print('Fraction of test-time output set to zero: ', (out_test == 0).mean())"
   ]
  },
  {
   "cell_type": "markdown",
   "metadata": {},
   "source": [
    "## Dropout backward pass\n",
    "\n",
    "Implement the backward pass, `dropout_backward`, in `nndl/layers.py`.  After that, test your gradients by running the following cell:"
   ]
  },
  {
   "cell_type": "code",
   "execution_count": 4,
   "metadata": {},
   "outputs": [
    {
     "name": "stdout",
     "output_type": "stream",
     "text": [
      "dx relative error:  5.4456079161781707e-11\n"
     ]
    }
   ],
   "source": [
    "x = np.random.randn(10, 10) + 10\n",
    "dout = np.random.randn(*x.shape)\n",
    "\n",
    "dropout_param = {'mode': 'train', 'p': 0.8, 'seed': 123}\n",
    "out, cache = dropout_forward(x, dropout_param)\n",
    "dx = dropout_backward(dout, cache)\n",
    "dx_num = eval_numerical_gradient_array(lambda xx: dropout_forward(xx, dropout_param)[0], x, dout)\n",
    "\n",
    "print('dx relative error: ', rel_error(dx, dx_num))"
   ]
  },
  {
   "cell_type": "markdown",
   "metadata": {},
   "source": [
    "## Implement a fully connected neural network with dropout layers\n",
    "\n",
    "Modify the `FullyConnectedNet()` class in `nndl/fc_net.py` to incorporate dropout.  A dropout layer should be incorporated after every ReLU layer.  Concretely, there shouldn't be a dropout at the output layer since there is no ReLU at the output layer. You will need to modify the class in the following areas:\n",
    "\n",
    "(1) In the forward pass, you will need to incorporate a dropout layer after every relu layer.\n",
    "\n",
    "(2) In the backward pass, you will need to incorporate a dropout backward pass layer.\n",
    "\n",
    "Check your implementation by running the following code.  Our W1 gradient relative error is on the order of 1e-6 (the largest of all the relative errors)."
   ]
  },
  {
   "cell_type": "code",
   "execution_count": 5,
   "metadata": {},
   "outputs": [
    {
     "name": "stdout",
     "output_type": "stream",
     "text": [
      "Running check with dropout =  0\n",
      "Initial loss:  2.3051948273987857\n",
      "W1 relative error: 2.5272575351926774e-07\n",
      "W2 relative error: 1.5034484932141387e-05\n",
      "W3 relative error: 2.753446846744471e-07\n",
      "b1 relative error: 2.9369574464090924e-06\n",
      "b2 relative error: 5.051339805546953e-08\n",
      "b3 relative error: 1.1740467838205477e-10\n",
      "\n",
      "\n",
      "Running check with dropout =  0.25\n",
      "Initial loss:  2.3126468345657742\n",
      "W1 relative error: 1.4838548482668379e-08\n",
      "W2 relative error: 2.3427832149940254e-10\n",
      "W3 relative error: 3.5644552421916305e-08\n",
      "b1 relative error: 1.5292161552507786e-09\n",
      "b2 relative error: 1.8422694913087017e-10\n",
      "b3 relative error: 8.701800136729388e-11\n",
      "\n",
      "\n",
      "Running check with dropout =  0.5\n",
      "Initial loss:  2.302437587710995\n",
      "W1 relative error: 4.5533879914978946e-08\n",
      "W2 relative error: 2.9742181126932173e-08\n",
      "W3 relative error: 4.3413246880173414e-07\n",
      "b1 relative error: 1.8724629972989974e-08\n",
      "b2 relative error: 1.6327629805532402e-09\n",
      "b3 relative error: 7.487013797161614e-11\n",
      "\n",
      "\n"
     ]
    }
   ],
   "source": [
    "N, D, H1, H2, C = 2, 15, 20, 30, 10\n",
    "X = np.random.randn(N, D)\n",
    "y = np.random.randint(C, size=(N,))\n",
    "\n",
    "for dropout in [0, 0.25, 0.5]:\n",
    "  print('Running check with dropout = ', dropout)\n",
    "  model = FullyConnectedNet([H1, H2], input_dim=D, num_classes=C,\n",
    "                            weight_scale=5e-2, dtype=np.float64,\n",
    "                            dropout=dropout, seed=123)\n",
    "\n",
    "  loss, grads = model.loss(X, y)\n",
    "  print('Initial loss: ', loss)\n",
    "\n",
    "  for name in sorted(grads):\n",
    "    f = lambda _: model.loss(X, y)[0]\n",
    "    grad_num = eval_numerical_gradient(f, model.params[name], verbose=False, h=1e-5)\n",
    "    print('{} relative error: {}'.format(name, rel_error(grad_num, grads[name])))\n",
    "  print('\\n')"
   ]
  },
  {
   "cell_type": "markdown",
   "metadata": {},
   "source": [
    "## Dropout as a regularizer\n",
    "\n",
    "In class, we claimed that dropout acts as a regularizer by effectively bagging.  To check this, we will train two small networks, one with dropout and one without dropout.  "
   ]
  },
  {
   "cell_type": "code",
   "execution_count": 6,
   "metadata": {},
   "outputs": [
    {
     "name": "stdout",
     "output_type": "stream",
     "text": [
      "(Iteration 1 / 125) loss: 2.300804\n",
      "(Epoch 0 / 25) train acc: 0.220000; val_acc: 0.168000\n",
      "(Epoch 1 / 25) train acc: 0.188000; val_acc: 0.147000\n",
      "(Epoch 2 / 25) train acc: 0.266000; val_acc: 0.200000\n",
      "(Epoch 3 / 25) train acc: 0.338000; val_acc: 0.262000\n",
      "(Epoch 4 / 25) train acc: 0.378000; val_acc: 0.278000\n",
      "(Epoch 5 / 25) train acc: 0.428000; val_acc: 0.297000\n",
      "(Epoch 6 / 25) train acc: 0.468000; val_acc: 0.323000\n",
      "(Epoch 7 / 25) train acc: 0.494000; val_acc: 0.287000\n",
      "(Epoch 8 / 25) train acc: 0.566000; val_acc: 0.328000\n",
      "(Epoch 9 / 25) train acc: 0.572000; val_acc: 0.322000\n",
      "(Epoch 10 / 25) train acc: 0.622000; val_acc: 0.324000\n",
      "(Epoch 11 / 25) train acc: 0.670000; val_acc: 0.279000\n",
      "(Epoch 12 / 25) train acc: 0.710000; val_acc: 0.338000\n",
      "(Epoch 13 / 25) train acc: 0.746000; val_acc: 0.319000\n",
      "(Epoch 14 / 25) train acc: 0.792000; val_acc: 0.307000\n",
      "(Epoch 15 / 25) train acc: 0.834000; val_acc: 0.297000\n",
      "(Epoch 16 / 25) train acc: 0.876000; val_acc: 0.327000\n",
      "(Epoch 17 / 25) train acc: 0.886000; val_acc: 0.320000\n",
      "(Epoch 18 / 25) train acc: 0.918000; val_acc: 0.314000\n",
      "(Epoch 19 / 25) train acc: 0.922000; val_acc: 0.290000\n",
      "(Epoch 20 / 25) train acc: 0.944000; val_acc: 0.306000\n",
      "(Iteration 101 / 125) loss: 0.156105\n",
      "(Epoch 21 / 25) train acc: 0.968000; val_acc: 0.302000\n",
      "(Epoch 22 / 25) train acc: 0.978000; val_acc: 0.302000\n",
      "(Epoch 23 / 25) train acc: 0.976000; val_acc: 0.289000\n",
      "(Epoch 24 / 25) train acc: 0.986000; val_acc: 0.285000\n",
      "(Epoch 25 / 25) train acc: 0.978000; val_acc: 0.311000\n",
      "(Iteration 1 / 125) loss: 2.301328\n",
      "(Epoch 0 / 25) train acc: 0.154000; val_acc: 0.143000\n",
      "(Epoch 1 / 25) train acc: 0.214000; val_acc: 0.195000\n",
      "(Epoch 2 / 25) train acc: 0.252000; val_acc: 0.216000\n",
      "(Epoch 3 / 25) train acc: 0.276000; val_acc: 0.200000\n",
      "(Epoch 4 / 25) train acc: 0.308000; val_acc: 0.254000\n",
      "(Epoch 5 / 25) train acc: 0.316000; val_acc: 0.241000\n",
      "(Epoch 6 / 25) train acc: 0.322000; val_acc: 0.282000\n",
      "(Epoch 7 / 25) train acc: 0.354000; val_acc: 0.273000\n",
      "(Epoch 8 / 25) train acc: 0.364000; val_acc: 0.276000\n",
      "(Epoch 9 / 25) train acc: 0.408000; val_acc: 0.282000\n",
      "(Epoch 10 / 25) train acc: 0.454000; val_acc: 0.302000\n",
      "(Epoch 11 / 25) train acc: 0.472000; val_acc: 0.296000\n",
      "(Epoch 12 / 25) train acc: 0.496000; val_acc: 0.318000\n",
      "(Epoch 13 / 25) train acc: 0.512000; val_acc: 0.310000\n",
      "(Epoch 14 / 25) train acc: 0.532000; val_acc: 0.318000\n",
      "(Epoch 15 / 25) train acc: 0.558000; val_acc: 0.331000\n",
      "(Epoch 16 / 25) train acc: 0.574000; val_acc: 0.300000\n",
      "(Epoch 17 / 25) train acc: 0.624000; val_acc: 0.324000\n",
      "(Epoch 18 / 25) train acc: 0.608000; val_acc: 0.326000\n",
      "(Epoch 19 / 25) train acc: 0.622000; val_acc: 0.326000\n",
      "(Epoch 20 / 25) train acc: 0.664000; val_acc: 0.342000\n",
      "(Iteration 101 / 125) loss: 1.293077\n",
      "(Epoch 21 / 25) train acc: 0.688000; val_acc: 0.320000\n",
      "(Epoch 22 / 25) train acc: 0.708000; val_acc: 0.326000\n",
      "(Epoch 23 / 25) train acc: 0.734000; val_acc: 0.343000\n",
      "(Epoch 24 / 25) train acc: 0.756000; val_acc: 0.322000\n",
      "(Epoch 25 / 25) train acc: 0.788000; val_acc: 0.345000\n"
     ]
    }
   ],
   "source": [
    "# Train two identical nets, one with dropout and one without\n",
    "\n",
    "num_train = 500\n",
    "small_data = {\n",
    "  'X_train': data['X_train'][:num_train],\n",
    "  'y_train': data['y_train'][:num_train],\n",
    "  'X_val': data['X_val'],\n",
    "  'y_val': data['y_val'],\n",
    "}\n",
    "\n",
    "solvers = {}\n",
    "dropout_choices = [0, 0.6]\n",
    "for dropout in dropout_choices:\n",
    "  model = FullyConnectedNet([100, 100, 100], dropout=dropout)\n",
    "\n",
    "  solver = Solver(model, small_data,\n",
    "                  num_epochs=25, batch_size=100,\n",
    "                  update_rule='adam',\n",
    "                  optim_config={\n",
    "                    'learning_rate': 5e-4,\n",
    "                  },\n",
    "                  verbose=True, print_every=100)\n",
    "  solver.train()\n",
    "  solvers[dropout] = solver"
   ]
  },
  {
   "cell_type": "code",
   "execution_count": 7,
   "metadata": {},
   "outputs": [
    {
     "data": {
      "image/png": "[encoded data removed]",
      "text/plain": [
       "<matplotlib.figure.Figure at 0x1816fcc5f8>"
      ]
     },
     "metadata": {},
     "output_type": "display_data"
    }
   ],
   "source": [
    "# Plot train and validation accuracies of the two models\n",
    "\n",
    "train_accs = []\n",
    "val_accs = []\n",
    "for dropout in dropout_choices:\n",
    "  solver = solvers[dropout]\n",
    "  train_accs.append(solver.train_acc_history[-1])\n",
    "  val_accs.append(solver.val_acc_history[-1])\n",
    "\n",
    "plt.subplot(3, 1, 1)\n",
    "for dropout in dropout_choices:\n",
    "  plt.plot(solvers[dropout].train_acc_history, 'o', label='%.2f dropout' % dropout)\n",
    "plt.title('Train accuracy')\n",
    "plt.xlabel('Epoch')\n",
    "plt.ylabel('Accuracy')\n",
    "plt.legend(ncol=2, loc='lower right')\n",
    "  \n",
    "plt.subplot(3, 1, 2)\n",
    "for dropout in dropout_choices:\n",
    "  plt.plot(solvers[dropout].val_acc_history, 'o', label='%.2f dropout' % dropout)\n",
    "plt.title('Val accuracy')\n",
    "plt.xlabel('Epoch')\n",
    "plt.ylabel('Accuracy')\n",
    "plt.legend(ncol=2, loc='lower right')\n",
    "\n",
    "plt.gcf().set_size_inches(15, 15)\n",
    "plt.show()"
   ]
  },
  {
   "cell_type": "markdown",
   "metadata": {},
   "source": [
    "## Question\n",
    "\n",
    "Based off the results of this experiment, is dropout performing regularization?  Explain your answer."
   ]
  },
  {
   "cell_type": "markdown",
   "metadata": {},
   "source": [
    "## Answer:\n",
    "We see that while the train accuracy goes down with dropout, the validation accuracy goes up. Hence dropout is improving generalization which is what regularization does. So yes, dropout is performing regularization."
   ]
  },
  {
   "cell_type": "markdown",
   "metadata": {},
   "source": [
    "## Final part of the assignment\n",
    "\n",
    "Get over 60% validation accuracy on CIFAR-10 by using the layers you have implemented.  You will be graded according to the following equation:\n",
    "\n",
    "min(floor((X - 32%)) / 28%, 1) \n",
    "where if you get 60% or higher validation accuracy, you get full points."
   ]
  },
  {
   "cell_type": "code",
   "execution_count": 10,
   "metadata": {
    "scrolled": false
   },
   "outputs": [
    {
     "name": "stdout",
     "output_type": "stream",
     "text": [
      "(Iteration 1 / 14700) loss: 13.800114\n",
      "(Epoch 0 / 30) train acc: 0.099000; val_acc: 0.114000\n",
      "(Epoch 1 / 30) train acc: 0.433000; val_acc: 0.432000\n",
      "(Iteration 501 / 14700) loss: 2.858346\n",
      "(Epoch 2 / 30) train acc: 0.446000; val_acc: 0.451000\n",
      "(Iteration 1001 / 14700) loss: 2.257024\n",
      "(Epoch 3 / 30) train acc: 0.447000; val_acc: 0.495000\n",
      "(Iteration 1501 / 14700) loss: 1.897230\n",
      "(Epoch 4 / 30) train acc: 0.509000; val_acc: 0.492000\n",
      "(Iteration 2001 / 14700) loss: 1.758837\n",
      "(Epoch 5 / 30) train acc: 0.516000; val_acc: 0.494000\n",
      "(Iteration 2501 / 14700) loss: 1.926457\n",
      "(Epoch 6 / 30) train acc: 0.531000; val_acc: 0.511000\n",
      "(Iteration 3001 / 14700) loss: 1.659288\n",
      "(Epoch 7 / 30) train acc: 0.561000; val_acc: 0.495000\n",
      "(Iteration 3501 / 14700) loss: 1.720197\n",
      "(Epoch 8 / 30) train acc: 0.553000; val_acc: 0.522000\n",
      "(Iteration 4001 / 14700) loss: 1.529853\n",
      "(Epoch 9 / 30) train acc: 0.544000; val_acc: 0.516000\n",
      "(Iteration 4501 / 14700) loss: 1.738199\n",
      "(Epoch 10 / 30) train acc: 0.575000; val_acc: 0.551000\n",
      "(Iteration 5001 / 14700) loss: 1.514477\n",
      "(Epoch 11 / 30) train acc: 0.597000; val_acc: 0.545000\n",
      "(Iteration 5501 / 14700) loss: 1.527623\n",
      "(Epoch 12 / 30) train acc: 0.593000; val_acc: 0.532000\n",
      "(Iteration 6001 / 14700) loss: 1.383773\n",
      "(Epoch 13 / 30) train acc: 0.617000; val_acc: 0.563000\n",
      "(Iteration 6501 / 14700) loss: 1.592436\n",
      "(Epoch 14 / 30) train acc: 0.618000; val_acc: 0.543000\n",
      "(Iteration 7001 / 14700) loss: 1.374448\n",
      "(Epoch 15 / 30) train acc: 0.653000; val_acc: 0.582000\n",
      "(Iteration 7501 / 14700) loss: 1.558295\n",
      "(Epoch 16 / 30) train acc: 0.656000; val_acc: 0.577000\n",
      "(Iteration 8001 / 14700) loss: 1.468377\n",
      "(Epoch 17 / 30) train acc: 0.672000; val_acc: 0.569000\n",
      "(Iteration 8501 / 14700) loss: 1.294163\n",
      "(Epoch 18 / 30) train acc: 0.688000; val_acc: 0.575000\n",
      "(Iteration 9001 / 14700) loss: 1.256389\n",
      "(Epoch 19 / 30) train acc: 0.676000; val_acc: 0.587000\n",
      "(Iteration 9501 / 14700) loss: 1.363799\n",
      "(Epoch 20 / 30) train acc: 0.718000; val_acc: 0.578000\n",
      "(Iteration 10001 / 14700) loss: 1.172918\n",
      "(Epoch 21 / 30) train acc: 0.690000; val_acc: 0.580000\n",
      "(Iteration 10501 / 14700) loss: 1.381910\n",
      "(Epoch 22 / 30) train acc: 0.727000; val_acc: 0.607000\n",
      "(Iteration 11001 / 14700) loss: 1.347088\n",
      "(Epoch 23 / 30) train acc: 0.738000; val_acc: 0.590000\n",
      "(Iteration 11501 / 14700) loss: 1.098229\n",
      "(Epoch 24 / 30) train acc: 0.733000; val_acc: 0.602000\n",
      "(Iteration 12001 / 14700) loss: 1.185772\n",
      "(Epoch 25 / 30) train acc: 0.765000; val_acc: 0.596000\n",
      "(Iteration 12501 / 14700) loss: 1.278566\n",
      "(Epoch 26 / 30) train acc: 0.735000; val_acc: 0.581000\n",
      "(Iteration 13001 / 14700) loss: 1.032404\n",
      "(Epoch 27 / 30) train acc: 0.747000; val_acc: 0.590000\n",
      "(Iteration 13501 / 14700) loss: 1.311924\n",
      "(Epoch 28 / 30) train acc: 0.759000; val_acc: 0.591000\n",
      "(Iteration 14001 / 14700) loss: 1.098353\n",
      "(Epoch 29 / 30) train acc: 0.768000; val_acc: 0.580000\n",
      "(Iteration 14501 / 14700) loss: 0.983504\n",
      "(Epoch 30 / 30) train acc: 0.789000; val_acc: 0.597000\n"
     ]
    }
   ],
   "source": [
    "# ================================================================ #\n",
    "# YOUR CODE HERE:\n",
    "#   Implement a FC-net that achieves at least 60% validation accuracy\n",
    "#   on CIFAR-10.\n",
    "# ================================================================ #\n",
    "X_val = data['X_val']\n",
    "y_val = data['y_val']\n",
    "\n",
    "lr = 3e-4\n",
    "hidden_dims = [600,500,400,300,200,100]\n",
    "dp = 0.8\n",
    "batchnorm = True\n",
    "ws = 3e-2\n",
    "reg = 1e-2\n",
    "\n",
    "#set up the model\n",
    "model = FullyConnectedNet(hidden_dims, weight_scale=ws, dtype=np.float64, dropout=dp, use_batchnorm=True, reg=reg)\n",
    "\n",
    "#make solver object that will be used to train the model\n",
    "solver = Solver(model, data, print_every=500, num_epochs=30, batch_size=100, update_rule='adam',\n",
    "               optim_config = {'learning_rate': lr,}, lr_decay = 0.9)\n",
    "#train the model (this will sub in the optimal parameters into the model object)\n",
    "solver.train()\n",
    "\n",
    "\n",
    "\n",
    "\n",
    "# ================================================================ #\n",
    "# END YOUR CODE HERE\n",
    "# ================================================================ #\n"
   ]
  },
  {
   "cell_type": "markdown",
   "metadata": {
    "collapsed": true
   },
   "source": [
    "We see that a max training val accuracy of 60.7% was achieved at epoch 22. "
   ]
  },
  {
   "cell_type": "code",
   "execution_count": null,
   "metadata": {
    "collapsed": true
   },
   "outputs": [],
   "source": []
  }
 ],
 "metadata": {
  "hide_input": false,
  "kernelspec": {
   "display_name": "Python 3",
   "language": "python",
   "name": "python3"
  },
  "language_info": {
   "codemirror_mode": {
    "name": "ipython",
    "version": 3
   },
   "file_extension": ".py",
   "mimetype": "text/x-python",
   "name": "python",
   "nbconvert_exporter": "python",
   "pygments_lexer": "ipython3",
   "version": "3.6.3"
  },
  "varInspector": {
   "cols": {
    "lenName": 16,
    "lenType": 16,
    "lenVar": 40
   },
   "kernels_config": {
    "python": {
     "delete_cmd_postfix": "",
     "delete_cmd_prefix": "del ",
     "library": "var_list.py",
     "varRefreshCmd": "print(var_dic_list())"
    },
    "r": {
     "delete_cmd_postfix": ") ",
     "delete_cmd_prefix": "rm(",
     "library": "var_list.r",
     "varRefreshCmd": "cat(var_dic_list()) "
    }
   },
   "types_to_exclude": [
    "module",
    "function",
    "builtin_function_or_method",
    "instance",
    "_Feature"
   ],
   "window_display": false
  }
 },
 "nbformat": 4,
 "nbformat_minor": 2
}
